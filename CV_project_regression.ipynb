{
  "nbformat": 4,
  "nbformat_minor": 0,
  "metadata": {
    "colab": {
      "name": "CV_project_regression.ipynb",
      "provenance": [],
      "collapsed_sections": []
    },
    "kernelspec": {
      "name": "python3",
      "display_name": "Python 3"
    },
    "language_info": {
      "name": "python"
    },
    "accelerator": "GPU"
  },
  "cells": [
    {
      "cell_type": "code",
      "metadata": {
        "colab": {
          "base_uri": "https://localhost:8080/"
        },
        "id": "ptHKKeB0-49S",
        "outputId": "fe6b1c8f-ee96-4876-febc-a87a352a8f02"
      },
      "source": [
        "from google.colab import drive \n",
        "drive.mount('/content/drive',force_remount=True)"
      ],
      "execution_count": 1,
      "outputs": [
        {
          "output_type": "stream",
          "name": "stdout",
          "text": [
            "Mounted at /content/drive\n"
          ]
        }
      ]
    },
    {
      "cell_type": "code",
      "metadata": {
        "colab": {
          "base_uri": "https://localhost:8080/"
        },
        "id": "yjhSm4Uc_BB4",
        "outputId": "b36d4899-7904-41b5-9178-2bd8b69b5f5c"
      },
      "source": [
        "!cp -av 'drive/MyDrive/CV/final_project/data_pure.zip' './' \n",
        "!unzip -u -q \"data_pure.zip\""
      ],
      "execution_count": 62,
      "outputs": [
        {
          "output_type": "stream",
          "name": "stdout",
          "text": [
            "'drive/MyDrive/CV/final_project/data_pure.zip' -> './data_pure.zip'\n"
          ]
        }
      ]
    },
    {
      "cell_type": "code",
      "metadata": {
        "colab": {
          "base_uri": "https://localhost:8080/"
        },
        "id": "jP4cf3JNCIPt",
        "outputId": "03388c5f-43ca-4f46-f82f-a9989aba9d11"
      },
      "source": [
        "%tensorflow_version 2.x\n",
        "import tensorflow as tf\n",
        "from tensorflow.keras.preprocessing.image import ImageDataGenerator\n",
        "import pandas as pd\n",
        "\n",
        "seed = 1\n",
        "base_dir = './'\n",
        "df = pd.read_csv(base_dir+\"data/train.csv\")\n",
        "df['filename'] = df.apply(lambda row: row['id']+'.jpg',axis=1)\n",
        "\n",
        "data_gen_args = dict(rescale=1./255,\n",
        "                     width_shift_range=0.1,\n",
        "                     height_shift_range=0.1,\n",
        "                     zoom_range=0,\n",
        "                     horizontal_flip=False,\n",
        "                     vertical_flip=False,\n",
        "                     validation_split=0.1)\n",
        "\n",
        "train_datagen = ImageDataGenerator(**data_gen_args)\n",
        "val_datagen = ImageDataGenerator(**data_gen_args)\n",
        "\n",
        "train_generator = train_datagen.flow_from_dataframe(dataframe=df,\n",
        "                                                    directory=base_dir+'data/train/',\n",
        "                                                    x_col='filename',\n",
        "                                                    y_col=['x','y'],\n",
        "                                                    subset=\"training\",\n",
        "                                                    batch_size = 32,\n",
        "                                                    seed=seed,\n",
        "                                                    shuffle=True,\n",
        "                                                    class_mode='raw',\n",
        "                                                    target_size=(224,224))\n",
        "val_generator = val_datagen.flow_from_dataframe(dataframe=df,\n",
        "                                                directory=base_dir+'data/train/',\n",
        "                                                x_col='filename',\n",
        "                                                y_col=['x','y'],\n",
        "                                                subset=\"validation\",\n",
        "                                                batch_size = 32,\n",
        "                                                seed=seed,\n",
        "                                                shuffle=True,\n",
        "                                                class_mode='raw',\n",
        "                                                target_size=(224,224))"
      ],
      "execution_count": 65,
      "outputs": [
        {
          "output_type": "stream",
          "name": "stdout",
          "text": [
            "Found 6750 validated image filenames.\n",
            "Found 750 validated image filenames.\n"
          ]
        }
      ]
    },
    {
      "cell_type": "code",
      "metadata": {
        "colab": {
          "base_uri": "https://localhost:8080/"
        },
        "id": "TqLXTmZFaurT",
        "outputId": "2b1588a7-546a-423b-f6f7-26966495943e"
      },
      "source": [
        "df_test = pd.read_csv(\"data/imagenames.csv\")\n",
        "df_test['filename'] = df_test.apply(lambda row: row['id']+'.jpg',axis=1)\n",
        "df_test['x']=0\n",
        "df_test['y']=0\n",
        "test_datagen = ImageDataGenerator(rescale=1./255)\n",
        "test_generator = test_datagen.flow_from_dataframe(dataframe=df_test,\n",
        "                                                directory=base_dir+'data/test/',\n",
        "                                                x_col='filename',\n",
        "                                                y_col=['x','y'],\n",
        "                                                batch_size = 32,\n",
        "                                                shuffle=False,\n",
        "                                                class_mode='raw',\n",
        "                                                target_size=(224,224))"
      ],
      "execution_count": 27,
      "outputs": [
        {
          "output_type": "stream",
          "name": "stdout",
          "text": [
            "Found 1200 validated image filenames.\n"
          ]
        }
      ]
    },
    {
      "cell_type": "code",
      "metadata": {
        "id": "Avj5unmAD7hl"
      },
      "source": [
        "from tensorflow.keras.applications import VGG16,Xception\n",
        "from tensorflow.keras.models import Model\n",
        "from tensorflow.keras.layers import Conv2D, MaxPooling2D,Flatten, Dense, Dropout\n",
        "from tensorflow.keras.losses import MeanAbsoluteError\n",
        "from tensorflow.keras.regularizers import l2"
      ],
      "execution_count": 38,
      "outputs": []
    },
    {
      "cell_type": "code",
      "metadata": {
        "id": "bWVIntJKC5Fr"
      },
      "source": [
        "def location_regressor():\n",
        "    Xception_model = Xception(input_shape=(224,224,3),include_top=False,weights='imagenet')\n",
        "    for layer in Xception_model.layers:\n",
        "        layer.trainable = False\n",
        "    x = Flatten()(Xception_model.output)\n",
        "    x=Dense(1048,activation='relu')(x)\n",
        "    x=Dense(128,activation='relu')(x)\n",
        "    x=Dense(2)(x)\n",
        "    model = Model(inputs=Xception_model.input, outputs=x)\n",
        "    model.compile(optimizer='Adam',loss=MeanAbsoluteError(),metrics=['mean_absolute_error'])\n",
        "    return model"
      ],
      "execution_count": 40,
      "outputs": []
    },
    {
      "cell_type": "code",
      "metadata": {
        "colab": {
          "base_uri": "https://localhost:8080/"
        },
        "id": "l-KhL22KFyv6",
        "outputId": "392c4daa-7dbe-47d8-96c2-0cb1aa7e8e25"
      },
      "source": [
        "with tf.device('/device:GPU:0'):\n",
        "    model = location_regressor()\n",
        "    #model.load_weights('drive/MyDrive/CV/Model/regressor.h5')\n",
        "    callback = tf.keras.callbacks.EarlyStopping(monitor='val_loss', patience=2)\n",
        "    r=model.fit(train_generator, validation_data=val_generator,\n",
        "                validation_steps=20,steps_per_epoch=211,epochs=100,callbacks=[callback])"
      ],
      "execution_count": 58,
      "outputs": [
        {
          "output_type": "stream",
          "name": "stdout",
          "text": [
            "Epoch 1/100\n",
            "235/235 [==============================] - 121s 505ms/step - loss: 5.9204 - mean_absolute_error: 5.9204 - val_loss: 7.7783 - val_mean_absolute_error: 7.7783\n",
            "Epoch 2/100\n",
            "235/235 [==============================] - 118s 502ms/step - loss: 5.8272 - mean_absolute_error: 5.8272 - val_loss: 7.0879 - val_mean_absolute_error: 7.0879\n",
            "Epoch 3/100\n",
            "235/235 [==============================] - 117s 496ms/step - loss: 5.8523 - mean_absolute_error: 5.8523 - val_loss: 6.9393 - val_mean_absolute_error: 6.9393\n",
            "Epoch 4/100\n",
            "235/235 [==============================] - 114s 487ms/step - loss: 5.6054 - mean_absolute_error: 5.6054 - val_loss: 7.2219 - val_mean_absolute_error: 7.2219\n",
            "Epoch 5/100\n",
            "235/235 [==============================] - 116s 496ms/step - loss: 5.5295 - mean_absolute_error: 5.5295 - val_loss: 7.0352 - val_mean_absolute_error: 7.0352\n"
          ]
        }
      ]
    },
    {
      "cell_type": "code",
      "metadata": {
        "colab": {
          "base_uri": "https://localhost:8080/"
        },
        "id": "5_UFVXipprlG",
        "outputId": "a26bdd88-ce9b-441c-93c0-9845a9db1b19"
      },
      "source": [
        "model.save('drive/MyDrive/CV/Model/regressor.h5')"
      ],
      "execution_count": 59,
      "outputs": [
        {
          "output_type": "stream",
          "name": "stderr",
          "text": [
            "/usr/local/lib/python3.7/dist-packages/keras/utils/generic_utils.py:497: CustomMaskWarning: Custom mask layers require a config and must override get_config. When loading, the custom mask layer must be passed to the custom_objects argument.\n",
            "  category=CustomMaskWarning)\n"
          ]
        }
      ]
    },
    {
      "cell_type": "code",
      "metadata": {
        "colab": {
          "base_uri": "https://localhost:8080/"
        },
        "id": "xaaVDPO6alsI",
        "outputId": "10b8c8e6-1d71-4e66-9673-e0d32eda55c1"
      },
      "source": [
        "with tf.device('/device:GPU:0'):\n",
        "    ypred = model.predict(test_generator)\n",
        "ypred.shape"
      ],
      "execution_count": 60,
      "outputs": [
        {
          "output_type": "execute_result",
          "data": {
            "text/plain": [
              "(1200, 2)"
            ]
          },
          "metadata": {},
          "execution_count": 60
        }
      ]
    },
    {
      "cell_type": "code",
      "metadata": {
        "id": "gL32JxlncbMJ"
      },
      "source": [
        "df_test['x'] = ypred[:,0]\n",
        "df_test['y'] = ypred[:,1]\n",
        "if 'filename' in df_test.keys():\n",
        "    df_test=df_test.drop(columns=['filename'])\n",
        "df_test.head()\n",
        "df_test.to_csv('pred_regression.csv',index=False)"
      ],
      "execution_count": 61,
      "outputs": []
    }
  ]
}